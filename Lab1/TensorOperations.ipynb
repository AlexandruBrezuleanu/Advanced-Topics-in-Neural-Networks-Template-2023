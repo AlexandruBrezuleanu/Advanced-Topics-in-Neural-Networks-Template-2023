{
  "nbformat": 4,
  "nbformat_minor": 0,
  "metadata": {
    "colab": {
      "provenance": [],
      "gpuType": "T4",
      "include_colab_link": true
    },
    "kernelspec": {
      "name": "python3",
      "display_name": "Python 3"
    },
    "language_info": {
      "name": "python"
    },
    "accelerator": "GPU"
  },
  "cells": [
    {
      "cell_type": "markdown",
      "metadata": {
        "id": "view-in-github",
        "colab_type": "text"
      },
      "source": [
        "<a href=\"https://colab.research.google.com/github/Tensor-Reloaded/Advanced-Topics-in-Neural-Networks-Template-2023/blob/main/Lab1/TensorOperations.ipynb\" target=\"_parent\"><img src=\"https://colab.research.google.com/assets/colab-badge.svg\" alt=\"Open In Colab\"/></a>"
      ]
    },
    {
      "cell_type": "code",
      "execution_count": 1,
      "metadata": {
        "id": "_SM-7cV9__S5"
      },
      "outputs": [],
      "source": [
        "import torch\n",
        "import numpy as np\n",
        "import pandas as pd\n",
        "import matplotlib.pyplot as plt\n",
        "import tensorboard"
      ]
    },
    {
      "cell_type": "markdown",
      "source": [
        "# Tensor"
      ],
      "metadata": {
        "id": "BLDUBAZeMbeb"
      }
    },
    {
      "cell_type": "markdown",
      "source": [
        "## Tensor Creation"
      ],
      "metadata": {
        "id": "tVj3bduLMkQD"
      }
    },
    {
      "cell_type": "code",
      "source": [
        "# From Python lists:\n",
        "torch.tensor([1, 2, 3])"
      ],
      "metadata": {
        "colab": {
          "base_uri": "https://localhost:8080/"
        },
        "id": "MzVqBA9AMifS",
        "outputId": "4fdacec7-a2df-4428-8131-6e7ff8251db8"
      },
      "execution_count": 8,
      "outputs": [
        {
          "output_type": "execute_result",
          "data": {
            "text/plain": [
              "tensor([1, 2, 3])"
            ]
          },
          "metadata": {},
          "execution_count": 8
        }
      ]
    },
    {
      "cell_type": "code",
      "source": [
        "# Random tensor with a given size\n",
        "torch.rand((4, 8))"
      ],
      "metadata": {
        "colab": {
          "base_uri": "https://localhost:8080/"
        },
        "id": "zOyNVUxQMLVk",
        "outputId": "a3c7a0a9-50fd-495b-8df5-41336f9de6be"
      },
      "execution_count": 11,
      "outputs": [
        {
          "output_type": "execute_result",
          "data": {
            "text/plain": [
              "tensor([[0.7334, 0.5990, 0.5604, 0.0939, 0.1298, 0.3652, 0.7000, 0.2137],\n",
              "        [0.6621, 0.9500, 0.1914, 0.8693, 0.6357, 0.3245, 0.7121, 0.6523],\n",
              "        [0.2313, 0.7098, 0.7683, 0.3794, 0.7030, 0.0241, 0.7564, 0.2906],\n",
              "        [0.7373, 0.9153, 0.2873, 0.3964, 0.2253, 0.2775, 0.1097, 0.0178]])"
            ]
          },
          "metadata": {},
          "execution_count": 11
        }
      ]
    },
    {
      "cell_type": "code",
      "source": [
        "# Zero tensor\n",
        "torch.zeros((3, 3, 3))"
      ],
      "metadata": {
        "colab": {
          "base_uri": "https://localhost:8080/"
        },
        "id": "IWizITNUNGVs",
        "outputId": "e61ae86f-947f-40cc-ff08-b7e0ee2474f1"
      },
      "execution_count": 13,
      "outputs": [
        {
          "output_type": "execute_result",
          "data": {
            "text/plain": [
              "tensor([[[0., 0., 0.],\n",
              "         [0., 0., 0.],\n",
              "         [0., 0., 0.]],\n",
              "\n",
              "        [[0., 0., 0.],\n",
              "         [0., 0., 0.],\n",
              "         [0., 0., 0.]],\n",
              "\n",
              "        [[0., 0., 0.],\n",
              "         [0., 0., 0.],\n",
              "         [0., 0., 0.]]])"
            ]
          },
          "metadata": {},
          "execution_count": 13
        }
      ]
    },
    {
      "cell_type": "code",
      "source": [
        "torch.arange(5, 15, 2)"
      ],
      "metadata": {
        "colab": {
          "base_uri": "https://localhost:8080/"
        },
        "id": "BSIUao6aNTaM",
        "outputId": "eca5c68b-f189-4b7f-ea18-71b04f3dbc5e"
      },
      "execution_count": 14,
      "outputs": [
        {
          "output_type": "execute_result",
          "data": {
            "text/plain": [
              "tensor([ 5,  7,  9, 11, 13])"
            ]
          },
          "metadata": {},
          "execution_count": 14
        }
      ]
    },
    {
      "cell_type": "code",
      "source": [
        "torch.full((2, 10), 5)"
      ],
      "metadata": {
        "colab": {
          "base_uri": "https://localhost:8080/"
        },
        "id": "esd-4w_ENgO-",
        "outputId": "0732bd6c-b4fc-4dee-ced6-8103d5aa1f97"
      },
      "execution_count": 15,
      "outputs": [
        {
          "output_type": "execute_result",
          "data": {
            "text/plain": [
              "tensor([[5, 5, 5, 5, 5, 5, 5, 5, 5, 5],\n",
              "        [5, 5, 5, 5, 5, 5, 5, 5, 5, 5]])"
            ]
          },
          "metadata": {},
          "execution_count": 15
        }
      ]
    },
    {
      "cell_type": "code",
      "source": [
        "torch.eye(4)"
      ],
      "metadata": {
        "colab": {
          "base_uri": "https://localhost:8080/"
        },
        "id": "F_8Ke2LYNmPU",
        "outputId": "db1e8ae9-99b6-445f-9278-3861c6deae21"
      },
      "execution_count": 16,
      "outputs": [
        {
          "output_type": "execute_result",
          "data": {
            "text/plain": [
              "tensor([[1., 0., 0., 0.],\n",
              "        [0., 1., 0., 0.],\n",
              "        [0., 0., 1., 0.],\n",
              "        [0., 0., 0., 1.]])"
            ]
          },
          "metadata": {},
          "execution_count": 16
        }
      ]
    },
    {
      "cell_type": "markdown",
      "source": [
        "## Operations with Tensors"
      ],
      "metadata": {
        "id": "TJJT6uaCRfeW"
      }
    },
    {
      "cell_type": "code",
      "source": [
        "t1 = torch.rand((100, 20, 30))\n",
        "t2 = torch.rand((100, 20, 30))\n",
        "print(t1.shape, t2.shape)"
      ],
      "metadata": {
        "id": "b-eYho2hRh5c",
        "outputId": "7184df42-5244-43c8-bc70-d5449ecea3b0",
        "colab": {
          "base_uri": "https://localhost:8080/"
        }
      },
      "execution_count": 11,
      "outputs": [
        {
          "output_type": "stream",
          "name": "stdout",
          "text": [
            "torch.Size([100, 20, 30]) torch.Size([100, 20, 30])\n"
          ]
        }
      ]
    },
    {
      "cell_type": "code",
      "source": [
        "print((t1 * t2).shape)\n",
        "torch.equal(t1 * t2, torch.mul(t1, t2))"
      ],
      "metadata": {
        "id": "RzNXZ58URuKL",
        "outputId": "a8160bde-3153-4ff5-fe0a-ec03820041e1",
        "colab": {
          "base_uri": "https://localhost:8080/"
        }
      },
      "execution_count": 15,
      "outputs": [
        {
          "output_type": "stream",
          "name": "stdout",
          "text": [
            "torch.Size([100, 20, 30])\n"
          ]
        },
        {
          "output_type": "execute_result",
          "data": {
            "text/plain": [
              "True"
            ]
          },
          "metadata": {},
          "execution_count": 15
        }
      ]
    },
    {
      "cell_type": "code",
      "source": [
        "t2t = t2.transpose(1, 2)\n",
        "print(t2t.shape)\n",
        "print((t1 @ t2t).shape)\n",
        "torch.equal(t1 @ t2t, torch.matmul(t1, t2t))"
      ],
      "metadata": {
        "id": "Vo531IDaR0wN",
        "outputId": "22242ec3-6ee5-445b-e3e5-b49c1301980d",
        "colab": {
          "base_uri": "https://localhost:8080/"
        }
      },
      "execution_count": 16,
      "outputs": [
        {
          "output_type": "stream",
          "name": "stdout",
          "text": [
            "torch.Size([100, 30, 20])\n",
            "torch.Size([100, 20, 20])\n"
          ]
        },
        {
          "output_type": "execute_result",
          "data": {
            "text/plain": [
              "True"
            ]
          },
          "metadata": {},
          "execution_count": 16
        }
      ]
    },
    {
      "cell_type": "markdown",
      "source": [
        "## Casting tensors to device"
      ],
      "metadata": {
        "id": "4DSDA1tkODmb"
      }
    },
    {
      "cell_type": "code",
      "source": [
        "# Tensors are by default on CPU\n",
        "# Please ensure that you have access to a GPU first (in Google Colab, change Runtime type to T4 GPU).\n",
        "x = torch.arange(5, 15, 2)\n",
        "x_cuda = x.to('cuda')"
      ],
      "metadata": {
        "id": "X3zsAshPOJqT"
      },
      "execution_count": 2,
      "outputs": []
    },
    {
      "cell_type": "code",
      "source": [
        "x_cuda"
      ],
      "metadata": {
        "id": "S6D-Tg7DOa8b",
        "outputId": "44a384b6-acfa-45aa-ccaf-7c3981f2b267",
        "colab": {
          "base_uri": "https://localhost:8080/"
        }
      },
      "execution_count": 4,
      "outputs": [
        {
          "output_type": "execute_result",
          "data": {
            "text/plain": [
              "tensor([ 5,  7,  9, 11, 13], device='cuda:0')"
            ]
          },
          "metadata": {},
          "execution_count": 4
        }
      ]
    },
    {
      "cell_type": "code",
      "source": [
        "# Tensors should be on the same device\n",
        "x_cuda + x"
      ],
      "metadata": {
        "id": "N5-uIsRGOzzH",
        "outputId": "52ad1c54-5a98-48d7-dc25-359c75ed90e6",
        "colab": {
          "base_uri": "https://localhost:8080/",
          "height": 175
        }
      },
      "execution_count": 5,
      "outputs": [
        {
          "output_type": "error",
          "ename": "RuntimeError",
          "evalue": "ignored",
          "traceback": [
            "\u001b[0;31m---------------------------------------------------------------------------\u001b[0m",
            "\u001b[0;31mRuntimeError\u001b[0m                              Traceback (most recent call last)",
            "\u001b[0;32m<ipython-input-5-acdb681772d0>\u001b[0m in \u001b[0;36m<cell line: 1>\u001b[0;34m()\u001b[0m\n\u001b[0;32m----> 1\u001b[0;31m \u001b[0mx_cuda\u001b[0m \u001b[0;34m+\u001b[0m \u001b[0mx\u001b[0m\u001b[0;34m\u001b[0m\u001b[0;34m\u001b[0m\u001b[0m\n\u001b[0m",
            "\u001b[0;31mRuntimeError\u001b[0m: Expected all tensors to be on the same device, but found at least two devices, cuda:0 and cpu!"
          ]
        }
      ]
    },
    {
      "cell_type": "code",
      "source": [
        "torch.manual_seed(10)\n",
        "a = torch.rand((10000, 200, 300))\n",
        "b = torch.rand((10000, 200, 300))\n",
        "print(\"a\", a.shape)\n",
        "print(\"b\", b.shape)\n",
        "print(\"b transposed\", b.transpose(1, 2).shape)"
      ],
      "metadata": {
        "id": "FtjPSIVqO5Ja",
        "outputId": "d764ad79-87fb-4bb9-8db3-c59f36912b9a",
        "colab": {
          "base_uri": "https://localhost:8080/"
        }
      },
      "execution_count": 4,
      "outputs": [
        {
          "output_type": "stream",
          "name": "stdout",
          "text": [
            "a torch.Size([10000, 200, 300])\n",
            "b torch.Size([10000, 200, 300])\n",
            "b transposed torch.Size([10000, 300, 200])\n"
          ]
        }
      ]
    },
    {
      "cell_type": "code",
      "source": [
        "%%timeit\n",
        "c = (a * b) @ b.transpose(1, 2)\n",
        "c.mean(axis=1)"
      ],
      "metadata": {
        "id": "SSwwuUVMPKQy",
        "outputId": "d18872f1-61f2-489c-90d5-ae4df9a267ea",
        "colab": {
          "base_uri": "https://localhost:8080/"
        }
      },
      "execution_count": 5,
      "outputs": [
        {
          "output_type": "stream",
          "name": "stdout",
          "text": [
            "5.63 s ± 788 ms per loop (mean ± std. dev. of 7 runs, 1 loop each)\n"
          ]
        }
      ]
    },
    {
      "cell_type": "code",
      "source": [
        "a_cuda = a.to('cuda')\n",
        "b_cuda = b.to('cuda')"
      ],
      "metadata": {
        "id": "jz5fOa31PjBl"
      },
      "execution_count": 8,
      "outputs": []
    },
    {
      "cell_type": "code",
      "source": [
        "%%timeit\n",
        "# Now it is much faster\n",
        "c_cuda = (a_cuda * b_cuda) @ b_cuda.transpose(1, 2)\n",
        "c_cuda.mean(axis=1)"
      ],
      "metadata": {
        "id": "cIhyqVGrQ2ud",
        "outputId": "19023c84-cd02-4739-f828-9dd8857f7d14",
        "colab": {
          "base_uri": "https://localhost:8080/"
        }
      },
      "execution_count": 9,
      "outputs": [
        {
          "output_type": "stream",
          "name": "stdout",
          "text": [
            "The slowest run took 4.75 times longer than the fastest. This could mean that an intermediate result is being cached.\n",
            "76 µs ± 59.3 µs per loop (mean ± std. dev. of 7 runs, 1 loop each)\n"
          ]
        }
      ]
    },
    {
      "cell_type": "markdown",
      "source": [],
      "metadata": {
        "id": "-pc4vRLKROPc"
      }
    }
  ]
}