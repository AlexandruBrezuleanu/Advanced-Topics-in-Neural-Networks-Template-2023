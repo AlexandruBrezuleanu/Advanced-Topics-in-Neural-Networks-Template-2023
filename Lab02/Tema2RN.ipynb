{
  "nbformat": 4,
  "nbformat_minor": 0,
  "metadata": {
    "colab": {
      "provenance": []
    },
    "kernelspec": {
      "name": "python3",
      "display_name": "Python 3"
    },
    "language_info": {
      "name": "python"
    }
  },
  "cells": [
    {
      "cell_type": "code",
      "execution_count": null,
      "metadata": {
        "id": "mog89e7LWzqx"
      },
      "outputs": [],
      "source": [
        "import torch\n",
        "from torch import Tensor\n",
        "import time\n",
        "import random\n",
        "import pandas as pd\n",
        "#m=20\n",
        "\n",
        "X = torch.rand((20,784))\n",
        "W = torch.rand((784,10))\n",
        "b = torch.rand((10))\n",
        "lr = 0.0005\n",
        "y = torch.zeros((20,10))\n",
        "for result in y:\n",
        "  nr = random.randint(0, 9)\n",
        "  result[nr] = 1"
      ]
    },
    {
      "cell_type": "code",
      "source": [
        "def sigmoid_function(x):\n",
        "  return 1/(1+torch.exp(-x))\n",
        "\n",
        "def train_batch(X:Tensor, W:Tensor, b:Tensor, y_true: Tensor, lr:float):\n",
        "  #x:(20,784)\n",
        "  #errorr(20,10)\n",
        "  z = X @ W + b\n",
        "  y_hat = sigmoid_function(z)\n",
        "  errorr = y_true -y_hat\n",
        "  W = W + lr * X.T @ errorr\n",
        "  b = b + lr * errorr.mean(axis=0)\n",
        "  return W,b\n",
        "\n",
        "def train_epoch(X:Tensor, W:Tensor, b:Tensor, y_true: Tensor, lr:float, batch_size):\n",
        "  for i in range(0, X.shape[0], batch_size):\n",
        "      x = X[i: i + batch_size]\n",
        "      y = y_true[i: i + batch_size]\n",
        "      W,b = train_batch(x,W,b,y,lr)\n",
        "  return W,b\n",
        "\n",
        "def train_perceptron(X:Tensor, W:Tensor, b:Tensor, y_true: Tensor, lr:float):\n",
        "    epoch_size = 500\n",
        "    batch_size = 100\n",
        "    for epoch in range(epoch_size):\n",
        "      W,b = train_epoch(X,W,b,y_true,lr,batch_size)\n",
        "    return W,b\n",
        "\n",
        "train_perceptron(X,W,b,y,lr)\n"
      ],
      "metadata": {
        "colab": {
          "base_uri": "https://localhost:8080/"
        },
        "id": "55k9S7JmW4L8",
        "outputId": "b3df0902-3efd-4de1-e0cf-372ed7e68cee"
      },
      "execution_count": null,
      "outputs": [
        {
          "output_type": "execute_result",
          "data": {
            "text/plain": [
              "(tensor([[-0.0507, -0.0418,  0.3123,  ...,  0.0358,  0.2546, -0.0907],\n",
              "         [ 0.2095,  0.0071, -0.0944,  ...,  0.2411,  0.4007, -0.3891],\n",
              "         [ 0.3457, -0.4161,  0.0155,  ...,  0.4202,  0.3884, -0.0738],\n",
              "         ...,\n",
              "         [-0.1284,  0.0476,  0.2729,  ..., -0.4954,  0.3075,  0.4035],\n",
              "         [-0.1133, -0.3318,  0.2518,  ..., -0.5087,  0.1971, -0.3265],\n",
              "         [-0.0755, -0.4725, -0.2973,  ...,  0.2009, -0.4593,  0.1022]]),\n",
              " tensor([ 0.4525,  0.6957,  0.4499,  0.7949,  0.6230,  0.6151,  0.5690, -0.0286,\n",
              "          0.6128,  0.3097]))"
            ]
          },
          "metadata": {},
          "execution_count": 50
        }
      ]
    },
    {
      "cell_type": "code",
      "source": [
        "train_data = pd.read_csv('mnist_train.csv')\n",
        "label = train_data['label']\n",
        "train_tensor = torch.tensor(train_data.drop( 'label', axis = 1).values, dtype=torch.float)\n",
        "train_tensor = train_tensor / 255\n",
        "\n",
        "y_train = torch.zeros((len(label), 10))\n",
        "for index, val in enumerate(label):\n",
        "  y_train[index][val] = 1\n"
      ],
      "metadata": {
        "id": "tdskSPNjnK7u"
      },
      "execution_count": null,
      "outputs": []
    },
    {
      "cell_type": "code",
      "source": [
        "test_data = pd.read_csv('mnist_test.csv')\n",
        "label_test = test_data['label']\n",
        "test_tensor = torch.tensor(test_data.drop( 'label', axis = 1).values, dtype=torch.float)\n",
        "test_tensor = test_tensor / 255\n",
        "\n",
        "y_test = torch.zeros((len(label_test), 10))\n",
        "for index, val in enumerate(label_test):\n",
        "  y_test[index][val] = 1"
      ],
      "metadata": {
        "id": "-BB5-76MfHDT"
      },
      "execution_count": null,
      "outputs": []
    },
    {
      "cell_type": "code",
      "source": [
        "predicted_y = sigmoid_function(test_tensor @ W + b)\n",
        "\n",
        "correct=0\n",
        "for index, row in enumerate(y_test):\n",
        "  if torch.argmax(row) == torch.argmax(predicted_y[index]):\n",
        "    correct+=1\n",
        "\n",
        "print(\"Accuracy before training: \" + str((100 * correct)/len(test_tensor)))\n",
        "\n"
      ],
      "metadata": {
        "colab": {
          "base_uri": "https://localhost:8080/"
        },
        "id": "1qlRh4FMfirS",
        "outputId": "3fdacde1-8646-4a92-f858-5d9b95322272"
      },
      "execution_count": null,
      "outputs": [
        {
          "output_type": "stream",
          "name": "stdout",
          "text": [
            "Accuracy before training: 10.24\n"
          ]
        }
      ]
    },
    {
      "cell_type": "code",
      "source": [
        "W,b = train_perceptron(train_tensor, W, b, y_train, lr)"
      ],
      "metadata": {
        "id": "6wmwGWpngF5z"
      },
      "execution_count": null,
      "outputs": []
    },
    {
      "cell_type": "code",
      "source": [
        "predicted_y = sigmoid_function(test_tensor @ W + b)\n",
        "\n",
        "correct=0\n",
        "for index, row in enumerate(y_test):\n",
        "  if torch.argmax(row) == torch.argmax(predicted_y[index]):\n",
        "    correct+=1\n",
        "\n",
        "print(\"Accuracy after training: \" + str((100 * correct)/len(test_tensor)))"
      ],
      "metadata": {
        "colab": {
          "base_uri": "https://localhost:8080/"
        },
        "id": "WarKBBRygjgs",
        "outputId": "8e55af27-5cf1-40f7-e8d7-7b5ea78b9112"
      },
      "execution_count": null,
      "outputs": [
        {
          "output_type": "stream",
          "name": "stdout",
          "text": [
            "Accuracy after training: 92.03\n"
          ]
        }
      ]
    }
  ]
}